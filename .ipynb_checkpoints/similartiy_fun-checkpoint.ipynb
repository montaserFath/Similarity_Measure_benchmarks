{
 "cells": [
  {
   "cell_type": "code",
   "execution_count": 1,
   "metadata": {},
   "outputs": [
    {
     "name": "stdout",
     "output_type": "stream",
     "text": [
      "Requirement already satisfied: py_stringmatching in /home/montaser/anaconda3/lib/python3.6/site-packages (0.4.1)\n",
      "Requirement already satisfied: numpy>=1.7.0 in /home/montaser/anaconda3/lib/python3.6/site-packages (from py_stringmatching) (1.16.2)\n",
      "Requirement already satisfied: six in /home/montaser/anaconda3/lib/python3.6/site-packages (from py_stringmatching) (1.12.0)\n"
     ]
    }
   ],
   "source": [
    "# install py_stringmatching lib\n",
    "! pip3 install py_stringmatching"
   ]
  },
  {
   "cell_type": "code",
   "execution_count": 9,
   "metadata": {},
   "outputs": [],
   "source": [
    "import numpy as np\n",
    "import py_stringmatching as sm\n",
    "from py_stringmatching import OverlapCoefficient\n",
    "from py_stringmatching import Jaccard\n",
    "from py_stringmatching import MongeElkan"
   ]
  },
  {
   "cell_type": "markdown",
   "metadata": {},
   "source": [
    "# Numerical"
   ]
  },
  {
   "cell_type": "code",
   "execution_count": 3,
   "metadata": {},
   "outputs": [],
   "source": [
    "def cosine (o1,o2):\n",
    "    \"\"\"\n",
    "    cosine similarity function\n",
    "    input:\n",
    "    - o1: first object\n",
    "    - o2: Second object\n",
    "    output:\n",
    "    - cosine between 01 and o2\n",
    "    \"\"\"\n",
    "    return np.arccos(np.dot(o1,o2)/(np.linalg.norm(o1)*np.linalg.norm(o2)))"
   ]
  },
  {
   "cell_type": "code",
   "execution_count": 4,
   "metadata": {},
   "outputs": [],
   "source": [
    "def Euclidean_distance (o1,o2):\n",
    "    \"\"\"\n",
    "    distance similarity function\n",
    "    input:\n",
    "    - o1: first object (numpy array)\n",
    "    - o2: Second object (numpy array)\n",
    "    output:\n",
    "    - distance between 01 and o2 float\n",
    "    \"\"\"\n",
    "    o1 , o2= np.array(o1) , np.array(o2)\n",
    "    return abs(o1-o2).sum()**(0.5)"
   ]
  },
  {
   "cell_type": "markdown",
   "metadata": {},
   "source": [
    "# Categorical"
   ]
  },
  {
   "cell_type": "code",
   "execution_count": 5,
   "metadata": {},
   "outputs": [],
   "source": [
    "def base_line (o1,o2):\n",
    "    \"\"\"\n",
    "    base_line similarity function\n",
    "    input:\n",
    "    - o1: first object\n",
    "    - o2: Second object\n",
    "    output:\n",
    "    - 1 if o1=02, 0 otherwise \n",
    "    \"\"\"\n",
    "    if o1==o2:\n",
    "        return 1\n",
    "    else:\n",
    "        return 0"
   ]
  },
  {
   "cell_type": "code",
   "execution_count": 6,
   "metadata": {},
   "outputs": [],
   "source": [
    "def overlap (o1,o2):\n",
    "    \"\"\"\n",
    "     overlap similarity function\n",
    "    input:\n",
    "    - o1: first object\n",
    "    - o2: Second object\n",
    "    output:\n",
    "    -  measure that measures the overlap between two sets\n",
    "    \"\"\"\n",
    "    return OverlapCoefficient().get_sim_score(o1,o2)"
   ]
  },
  {
   "cell_type": "code",
   "execution_count": 7,
   "metadata": {},
   "outputs": [],
   "source": [
    "def Jaccard_Distance (o1,o2):\n",
    "    \"\"\"\n",
    "     Jaccard similarity function\n",
    "    input:\n",
    "    - o1: first object\n",
    "    - o2: Second object\n",
    "    output:\n",
    "    -  Computes Jaccard measure.\n",
    "    \"\"\"\n",
    "    return Jaccard().get_sim_score(o1,o2)"
   ]
  },
  {
   "cell_type": "code",
   "execution_count": 8,
   "metadata": {},
   "outputs": [],
   "source": [
    "def Monge_Elkan(o1,o2):\n",
    "    \"\"\"\n",
    "     Monge Elkan similarity function\n",
    "    input:\n",
    "    - o1: first object\n",
    "    - o2: Second object\n",
    "    output:\n",
    "    -  Computes Monge Elkan measure.\n",
    "    \"\"\"\n",
    "    return MongeElkan().get_raw_score(o1,o2)"
   ]
  },
  {
   "cell_type": "code",
   "execution_count": null,
   "metadata": {},
   "outputs": [],
   "source": []
  }
 ],
 "metadata": {
  "kernelspec": {
   "display_name": "Python 3",
   "language": "python",
   "name": "python3"
  },
  "language_info": {
   "codemirror_mode": {
    "name": "ipython",
    "version": 3
   },
   "file_extension": ".py",
   "mimetype": "text/x-python",
   "name": "python",
   "nbconvert_exporter": "python",
   "pygments_lexer": "ipython3",
   "version": "3.6.8"
  }
 },
 "nbformat": 4,
 "nbformat_minor": 2
}
